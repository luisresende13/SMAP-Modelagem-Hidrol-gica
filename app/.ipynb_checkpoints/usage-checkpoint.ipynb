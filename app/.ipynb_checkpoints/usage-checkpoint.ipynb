{
 "cells": [
  {
   "cell_type": "code",
   "execution_count": null,
   "id": "079ae57e-06c1-4fe3-bcd5-ffb2fc6ed232",
   "metadata": {},
   "outputs": [],
   "source": [
    "import requests\n",
    "\n",
    "# URL of the Flask app\n",
    "url = 'http://127.0.0.1:5000/calculate_metrics'\n",
    "\n",
    "# Sample payload with model parameters and date range\n",
    "payload = {\n",
    "    \"params\": {\n",
    "        \"param1\": 0.5,  # Example model parameters (replace with actual params)\n",
    "        \"param2\": 1.0,\n",
    "        \"param3\": 0.3,\n",
    "        # Add other parameters here\n",
    "    },\n",
    "    \"start_date\": \"2000-01-01\",  # Example date range\n",
    "    \"end_date\": \"2005-12-31\"\n",
    "}\n",
    "\n",
    "# Send POST request with the JSON payload\n",
    "response = requests.post(url, json=payload)\n",
    "\n",
    "# Check the response status code\n",
    "if response.status_code == 200:\n",
    "    # Get the JSON response\n",
    "    data = response.json()\n",
    "\n",
    "    # Print the metrics\n",
    "    print(\"Metrics:\", data['stats'])\n",
    "    \n",
    "    # Print the HTML content for the charts\n",
    "    for idx, chart in enumerate(data['charts']):\n",
    "        print(f\"Chart {idx+1} HTML:\", chart)\n",
    "else:\n",
    "    print(f\"Failed to get metrics: {response.status_code}\")\n"
   ]
  }
 ],
 "metadata": {
  "kernelspec": {
   "display_name": "Python 3 (ipykernel)",
   "language": "python",
   "name": "python3"
  },
  "language_info": {
   "codemirror_mode": {
    "name": "ipython",
    "version": 3
   },
   "file_extension": ".py",
   "mimetype": "text/x-python",
   "name": "python",
   "nbconvert_exporter": "python",
   "pygments_lexer": "ipython3",
   "version": "3.11.7"
  }
 },
 "nbformat": 4,
 "nbformat_minor": 5
}
