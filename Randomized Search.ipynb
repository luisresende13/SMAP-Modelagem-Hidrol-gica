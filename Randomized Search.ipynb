{
 "cells": [
  {
   "cell_type": "code",
   "execution_count": null,
   "id": "fdcf07f0-ef30-4555-8bd8-07e218974a89",
   "metadata": {},
   "outputs": [],
   "source": []
  },
  {
   "cell_type": "markdown",
   "id": "9cf5b030-993f-4f64-a45f-4ec792ce9fc7",
   "metadata": {},
   "source": [
    "#### Load data"
   ]
  },
  {
   "cell_type": "code",
   "execution_count": 1,
   "id": "03baf935-ebbe-46bb-8a35-5da08d40bde7",
   "metadata": {},
   "outputs": [
    {
     "data": {
      "text/html": [
       "<div>\n",
       "<style scoped>\n",
       "    .dataframe tbody tr th:only-of-type {\n",
       "        vertical-align: middle;\n",
       "    }\n",
       "\n",
       "    .dataframe tbody tr th {\n",
       "        vertical-align: top;\n",
       "    }\n",
       "\n",
       "    .dataframe thead th {\n",
       "        text-align: right;\n",
       "    }\n",
       "</style>\n",
       "<table border=\"1\" class=\"dataframe\">\n",
       "  <thead>\n",
       "    <tr style=\"text-align: right;\">\n",
       "      <th></th>\n",
       "      <th>Qobs</th>\n",
       "      <th>Ep</th>\n",
       "      <th>Pr</th>\n",
       "    </tr>\n",
       "    <tr>\n",
       "      <th>data</th>\n",
       "      <th></th>\n",
       "      <th></th>\n",
       "      <th></th>\n",
       "    </tr>\n",
       "  </thead>\n",
       "  <tbody>\n",
       "    <tr>\n",
       "      <th>1995-01-01</th>\n",
       "      <td>204</td>\n",
       "      <td>4.94</td>\n",
       "      <td>4.3</td>\n",
       "    </tr>\n",
       "    <tr>\n",
       "      <th>1995-01-02</th>\n",
       "      <td>181</td>\n",
       "      <td>4.94</td>\n",
       "      <td>9.1</td>\n",
       "    </tr>\n",
       "    <tr>\n",
       "      <th>1995-01-03</th>\n",
       "      <td>176</td>\n",
       "      <td>4.94</td>\n",
       "      <td>22.8</td>\n",
       "    </tr>\n",
       "    <tr>\n",
       "      <th>1995-01-04</th>\n",
       "      <td>194</td>\n",
       "      <td>4.94</td>\n",
       "      <td>9.2</td>\n",
       "    </tr>\n",
       "    <tr>\n",
       "      <th>1995-01-05</th>\n",
       "      <td>198</td>\n",
       "      <td>4.94</td>\n",
       "      <td>1.7</td>\n",
       "    </tr>\n",
       "  </tbody>\n",
       "</table>\n",
       "</div>"
      ],
      "text/plain": [
       "            Qobs    Ep    Pr\n",
       "data                        \n",
       "1995-01-01   204  4.94   4.3\n",
       "1995-01-02   181  4.94   9.1\n",
       "1995-01-03   176  4.94  22.8\n",
       "1995-01-04   194  4.94   9.2\n",
       "1995-01-05   198  4.94   1.7"
      ]
     },
     "execution_count": 1,
     "metadata": {},
     "output_type": "execute_result"
    }
   ],
   "source": [
    "import pandas as pd\n",
    "# df = pd.read_csv('data/smap_input.csv')\n",
    "df = pd.read_csv('data/bacia-camargos.csv')\n",
    "\n",
    "# Data cleaning\n",
    "df['Ep'] = df['Ep'].str.replace(',', '.').astype('float')\n",
    "df['Pr'] = df['Pr'].str.replace(',', '.').astype('float')\n",
    "\n",
    "df.set_index(pd.to_datetime(df['data']), inplace=True)\n",
    "df.drop('data', axis=1, inplace=True)\n",
    "\n",
    "df.head()"
   ]
  },
  {
   "cell_type": "markdown",
   "id": "705bce58-a6fa-4056-8e47-4bf3e2e98edb",
   "metadata": {},
   "source": [
    "---\n",
    "# Modelo Base"
   ]
  },
  {
   "cell_type": "markdown",
   "id": "6620bc37-97f1-4b63-b208-31bdcbeed1eb",
   "metadata": {},
   "source": [
    "#### Set optimal parameters obtained by the ONS"
   ]
  },
  {
   "cell_type": "code",
   "execution_count": 2,
   "id": "543fa132-1076-4280-85be-de6653967f54",
   "metadata": {},
   "outputs": [],
   "source": [
    "# Define default parameters\n",
    "params_ons = dict(\n",
    "    Ad = 6279.0,  # Example area in square km (or appropriate units)\n",
    "    Str = 100.0,  # Storage capacity or other parameter (example value)\n",
    "    K2t = 5.5,  # Example decay coefficient\n",
    "    Crec = 100,  # Example recharge coefficient\n",
    "    Ai = 2,  # Example threshold value\n",
    "    Capc = 42.0,  # Example capacity percentage\n",
    "    Kkt = 150,  # Another example decay coefficient\n",
    "    Pcof = 1.0,  # Example precipitation coefficient\n",
    "    Tuin = 20.0,  # Example initial moisture content\n",
    "    Ebin = 45.0,  # Example baseflow initial value\n",
    "    Supin = 1.0,  # Example surface flow initial value\n",
    "    kep = 1.05153505864843, # 0.8  # Example parameter for evaporation adjustment\n",
    "    H = 200.0,  # Example storage height or capacity\n",
    "    K1t = 10.0,  # Example decay coefficient for marginal storage\n",
    "    K3t = 10.0,  # Another example decay coefficient                \n",
    ")\n"
   ]
  },
  {
   "cell_type": "markdown",
   "id": "2619c3cc-171d-4384-8276-eebccb8f2828",
   "metadata": {},
   "source": [
    "### Métricas de erro"
   ]
  },
  {
   "cell_type": "code",
   "execution_count": 3,
   "id": "0b1d94c3-b7c4-49bc-9e71-fb07400b1dfa",
   "metadata": {},
   "outputs": [],
   "source": [
    "from modules.metrics import (\n",
    "    nash_sutcliffe_efficacy,\n",
    "    relative_error_coefficient,\n",
    "    correlation_coefficient,\n",
    "    mean_error,\n",
    "    normalized_rmse,\n",
    "    rmse\n",
    ")\n",
    "\n",
    "from sklearn.metrics import mean_squared_error"
   ]
  },
  {
   "cell_type": "markdown",
   "id": "93260dc7-7187-4099-9f55-c855ada013ba",
   "metadata": {},
   "source": [
    "#### Busca Randomizada"
   ]
  },
  {
   "cell_type": "code",
   "execution_count": 9,
   "id": "c3bbefb7-ec07-4c29-a461-f3ba99d72af5",
   "metadata": {},
   "outputs": [
    {
     "name": "stdout",
     "output_type": "stream",
     "text": [
      "Fitting 2 folds for each of 1000 candidates, totalling 2000 fits\n",
      "Best Score: -4428.094354255619\n",
      "Best Parameters:\n"
     ]
    },
    {
     "data": {
      "text/plain": [
       "{'Ai': 2.651257630789426,\n",
       " 'Capc': 69.07957723444942,\n",
       " 'Crec': 41.27193684391827,\n",
       " 'H': 12.997519289389503,\n",
       " 'K2t': 4.848116172919958,\n",
       " 'K3t': 59.17341602309514,\n",
       " 'Kkt': 131.09761991746313,\n",
       " 'Str': 138.94968497821765,\n",
       " 'kep': 1.5672399740027982}"
      ]
     },
     "metadata": {},
     "output_type": "display_data"
    }
   ],
   "source": [
    "from sklearn.model_selection import RandomizedSearchCV\n",
    "from scipy.stats import uniform\n",
    "from modules.smap import SmapModel\n",
    "from modules.metrics import nash_sutcliffe_efficacy\n",
    "from sklearn.metrics import mean_squared_error\n",
    "\n",
    "def nash_sutcliffe_efficacy_score(estimator, X_test, y_test):\n",
    "    y_pred = estimator.predict(X_test)\n",
    "    return nash_sutcliffe_efficacy(y_test, y_pred)\n",
    "\n",
    "def neg_soma_coef_score(estimator, X_test, y_test):\n",
    "    y_pred = estimator.predict(X_test)\n",
    "    cef = nash_sutcliffe_efficacy(y_test, y_pred)\n",
    "    cer = relative_error_coefficient(y_test, y_pred)\n",
    "    return - (cef + cer)\n",
    "    \n",
    "start_date = '1995-08-01'\n",
    "end_date = '2000-08-01'\n",
    "\n",
    "data = df[start_date: end_date]\n",
    "X = data[['Ep', 'Pr']]\n",
    "y = data['Qobs'].values\n",
    "\n",
    "# Define the parameter distributions (using a wide range with fewer values for random sampling)\n",
    "param_distributions = {\n",
    "    'H': uniform(0, 200), \n",
    "    'Str': uniform(50, 2000), \n",
    "    'K2t': uniform(0.2, 10),  \n",
    "    'Crec': uniform(0, 100), \n",
    "    'Ai': uniform(2, 5), \n",
    "    'Capc': uniform(30, 50), \n",
    "    'Kkt': uniform(30, 180), \n",
    "    'K3t': uniform(10, 60), \n",
    "    'kep': uniform(0.8, 1.2),\n",
    "}\n",
    "\n",
    "# Initialize the model\n",
    "model = SmapModel(**params_ons)\n",
    "\n",
    "# Perform Randomized Search\n",
    "random_search = RandomizedSearchCV(model, param_distributions, n_iter=1000, scoring='neg_mean_squared_error', error_score='raise', cv=2, verbose=1)\n",
    "random_search.fit(X, y)\n",
    "\n",
    "# Get the best parameters\n",
    "print(f\"Best Score: {random_search.best_score_}\")\n",
    "print(f\"Best Parameters:\")\n",
    "display(random_search.best_params_)\n"
   ]
  },
  {
   "cell_type": "code",
   "execution_count": null,
   "id": "ac9e4a68-d8ce-4ba7-883f-b959032b7716",
   "metadata": {},
   "outputs": [],
   "source": [
    "1000: {'Ai': 2.651257630789426,\n",
    " 'Capc': 69.07957723444942,\n",
    " 'Crec': 41.27193684391827,\n",
    " 'H': 12.997519289389503,\n",
    " 'K2t': 4.848116172919958,\n",
    " 'K3t': 59.17341602309514,\n",
    " 'Kkt': 131.09761991746313,\n",
    " 'Str': 138.94968497821765,\n",
    " 'kep': 1.5672399740027982}\n",
    "\n",
    "2500: {'Ai': 2.0493036319763256,\n",
    " 'Capc': 70.78300818809907,\n",
    " 'Crec': 18.085390128484136,\n",
    " 'H': 85.5355405433689,\n",
    " 'K2t': 9.940278272576476,\n",
    " 'K3t': 60.640118634680526,\n",
    " 'Kkt': 89.03233172313816,\n",
    " 'Str': 88.2606299696524,\n",
    " 'kep': 1.2334358471099778}\n",
    "\n",
    "5000: {'Ai': 2.24701094226066,\n",
    " 'Capc': 65.21589501631206,\n",
    " 'Crec': 53.04708892064727,\n",
    " 'H': 22.733477312890216,\n",
    " 'K2t': 8.040232211765824,\n",
    " 'K3t': 66.72556394584248,\n",
    " 'Kkt': 71.15383130783022,\n",
    " 'Str': 133.28852962269417,\n",
    " 'kep': 1.9763228672233566}"
   ]
  }
 ],
 "metadata": {
  "kernelspec": {
   "display_name": "Python 3 (ipykernel)",
   "language": "python",
   "name": "python3"
  },
  "language_info": {
   "codemirror_mode": {
    "name": "ipython",
    "version": 3
   },
   "file_extension": ".py",
   "mimetype": "text/x-python",
   "name": "python",
   "nbconvert_exporter": "python",
   "pygments_lexer": "ipython3",
   "version": "3.11.7"
  }
 },
 "nbformat": 4,
 "nbformat_minor": 5
}
